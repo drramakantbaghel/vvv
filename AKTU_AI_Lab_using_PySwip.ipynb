{
  "nbformat": 4,
  "nbformat_minor": 0,
  "metadata": {
    "colab": {
      "name": "AKTU AI Lab using PySwip.ipynb",
      "private_outputs": true,
      "provenance": [],
      "authorship_tag": "ABX9TyPa3egE/I1z78p5zwfSoxcs",
      "include_colab_link": true
    },
    "kernelspec": {
      "name": "python3",
      "display_name": "Python 3"
    }
  },
  "cells": [
    {
      "cell_type": "markdown",
      "metadata": {
        "id": "view-in-github",
        "colab_type": "text"
      },
      "source": [
        "<a href=\"https://colab.research.google.com/github/drramakantbaghel/vvv/blob/master/AKTU_AI_Lab_using_PySwip.ipynb\" target=\"_parent\"><img src=\"https://colab.research.google.com/assets/colab-badge.svg\" alt=\"Open In Colab\"/></a>"
      ]
    }
  ]
}