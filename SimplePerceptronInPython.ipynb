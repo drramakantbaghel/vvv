{
 "cells": [
  {
   "cell_type": "markdown",
   "metadata": {},
   "source": [
    "## **Simple Perceptron in Python**\n",
    "#### Reference from [Medium Post](https://becominghuman.ai/making-a-simple-neural-network-2ea1de81ec20)"
   ]
  },
  {
   "cell_type": "code",
   "execution_count": 2,
   "metadata": {},
   "outputs": [],
   "source": [
    "inputs = [0, 1, 0, 0]\n",
    "weights = [0, 0, 0, 0]\n",
    "desired_result = 1\n",
    "learning_rate = 0.2\n",
    "trials = 6\n"
   ]
  },
  {
   "cell_type": "code",
   "execution_count": 25,
   "metadata": {},
   "outputs": [],
   "source": [
    "def evaluate_neural_network(input_array, weight_array):\n",
    "    result = 0\n",
    "    for i in range(len(input_array)):\n",
    "        layer_value = input_array[i] * weight_array[i]\n",
    "        result += layer_value\n",
    "        \n",
    "    print(\"Evaluate_neural_network: {r}\".format(r=result))\n",
    "    print(\"weights: {w}\".format(w=weights))\n",
    "    return result\n",
    "    "
   ]
  },
  {
   "cell_type": "code",
   "execution_count": 11,
   "metadata": {},
   "outputs": [],
   "source": [
    "def evaluate_error(desired, actual):\n",
    "    error = desired - actual\n",
    "    print(\"evaluate_error: {}\".format(error))\n",
    "    return error"
   ]
  },
  {
   "cell_type": "code",
   "execution_count": 13,
   "metadata": {},
   "outputs": [],
   "source": [
    "def learn(input_array, weight_array):\n",
    "    print(\"Learning.....\")\n",
    "    for i in range(len(input_array)):\n",
    "        if input_array[i] > 0:\n",
    "            weight_array[i] += learning_rate"
   ]
  },
  {
   "cell_type": "code",
   "execution_count": 21,
   "metadata": {},
   "outputs": [],
   "source": [
    "# checking loop skip this\n",
    "'''arr = [1,2,3,4,5]\n",
    "for i in range(len(arr)):\n",
    "    print(\"arr[{i}]: {arr}\".format(i=i,arr=arr[i]))\n",
    "    #print(i,end''=\",\")'''\n",
    "    \n",
    "def train(trials):\n",
    "    for i in range(trials):\n",
    "        neural_net_result = evaluate_neural_network(inputs, weights)\n",
    "        learn(inputs, weights)\n"
   ]
  },
  {
   "cell_type": "code",
   "execution_count": 26,
   "metadata": {},
   "outputs": [
    {
     "name": "stdout",
     "output_type": "stream",
     "text": [
      "Evaluate_neural_network: 0\n",
      "weights: [0, 0, 0, 0]\n",
      "Learning.....\n",
      "Evaluate_neural_network: 0.2\n",
      "weights: [0, 0.2, 0, 0]\n",
      "Learning.....\n",
      "Evaluate_neural_network: 0.4\n",
      "weights: [0, 0.4, 0, 0]\n",
      "Learning.....\n",
      "Evaluate_neural_network: 0.6000000000000001\n",
      "weights: [0, 0.6000000000000001, 0, 0]\n",
      "Learning.....\n",
      "Evaluate_neural_network: 0.8\n",
      "weights: [0, 0.8, 0, 0]\n",
      "Learning.....\n",
      "Evaluate_neural_network: 1.0\n",
      "weights: [0, 1.0, 0, 0]\n",
      "Learning.....\n"
     ]
    }
   ],
   "source": [
    "train(trials)"
   ]
  }
 ],
 "metadata": {
  "kernelspec": {
   "display_name": "Python 3",
   "language": "python",
   "name": "python3"
  },
  "language_info": {
   "codemirror_mode": {
    "name": "ipython",
    "version": 3
   },
   "file_extension": ".py",
   "mimetype": "text/x-python",
   "name": "python",
   "nbconvert_exporter": "python",
   "pygments_lexer": "ipython3",
   "version": "3.6.5"
  }
 },
 "nbformat": 4,
 "nbformat_minor": 2
}
